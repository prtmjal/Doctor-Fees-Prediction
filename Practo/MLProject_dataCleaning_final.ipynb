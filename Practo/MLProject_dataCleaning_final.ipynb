{
  "nbformat": 4,
  "nbformat_minor": 0,
  "metadata": {
    "colab": {
      "provenance": []
    },
    "kernelspec": {
      "name": "python3",
      "display_name": "Python 3"
    },
    "language_info": {
      "name": "python"
    }
  },
  "cells": [
    {
      "cell_type": "code",
      "execution_count": null,
      "metadata": {
        "id": "9N1oLy9p-FkQ"
      },
      "outputs": [],
      "source": [
        "import pandas as pd\n",
        "import numpy as np"
      ]
    },
    {
      "cell_type": "code",
      "source": [
        "from google.colab import drive\n",
        "drive.mount('/content/drive')"
      ],
      "metadata": {
        "colab": {
          "base_uri": "https://localhost:8080/"
        },
        "id": "R562KGdD6f7E",
        "outputId": "d69dfe1d-ccad-4592-a7e8-0b2a24c77ddb"
      },
      "execution_count": null,
      "outputs": [
        {
          "output_type": "stream",
          "name": "stdout",
          "text": [
            "Mounted at /content/drive\n"
          ]
        }
      ]
    },
    {
      "cell_type": "code",
      "source": [
        "df =pd.read_csv(\"/content/drive/MyDrive/ML Dataset/Practo/practo_cleandata.csv\")"
      ],
      "metadata": {
        "id": "ySd6IRQl-laI"
      },
      "execution_count": null,
      "outputs": []
    },
    {
      "cell_type": "code",
      "source": [
        "df"
      ],
      "metadata": {
        "colab": {
          "base_uri": "https://localhost:8080/",
          "height": 424
        },
        "id": "i4G8rvK6-q1q",
        "outputId": "d3a8121a-926b-4c36-bfcb-d34d7a9928f7"
      },
      "execution_count": null,
      "outputs": [
        {
          "output_type": "execute_result",
          "data": {
            "text/plain": [
              "      Unnamed: 0                          Name Degree Specialization  \\\n",
              "0              0            Dr. Sourabh Nagpal    BDS        Dentist   \n",
              "1              1              Dr. Meeka Gulati    BDS        Dentist   \n",
              "2              2            Dr. Aparna Singhal    BDS        Dentist   \n",
              "3              3             Dr. Prashant Ojha    MDS        Dentist   \n",
              "4              4  Dr. Anukriti Bansal Aggarwal    BDS        Dentist   \n",
              "...          ...                           ...    ...            ...   \n",
              "5022        5053                 Dr. Sreesha N   MBBS        Dentist   \n",
              "5023        5054           Dr. Roshan Varghese   MBBS        Dentist   \n",
              "5024        5055       Dr. Vinayak Raghunathan   MBBS        Dentist   \n",
              "5025        5056                  Dr. Idris Md   MBBS        Dentist   \n",
              "5026        5057           Dr. Prahlad Shenava   MBBS        Dentist   \n",
              "\n",
              "      Experience            Location       City  Recommendation  Feedback  \\\n",
              "0             17        Vasant Vihar      Delhi              99       623   \n",
              "1             15           Janakpuri      Delhi              97       108   \n",
              "2             14        Punjabi Bagh      Delhi              98        96   \n",
              "3             16               Saket      Delhi              92       104   \n",
              "4             10    Rohini Sector 18      Delhi              10        74   \n",
              "...          ...                 ...        ...             ...       ...   \n",
              "5022          18  Yelahanka New Town  Bangalore              10        10   \n",
              "5023          14            Horamavu  Bangalore              10        55   \n",
              "5024          14            JP Nagar  Bangalore              10       145   \n",
              "5025          13   Jayanagar 5 Block  Bangalore              99       131   \n",
              "5026          12          Whitefield  Bangalore              98        58   \n",
              "\n",
              "      Fees  \n",
              "0      500  \n",
              "1      500  \n",
              "2      300  \n",
              "3      300  \n",
              "4      400  \n",
              "...    ...  \n",
              "5022   300  \n",
              "5023   300  \n",
              "5024   500  \n",
              "5025   300  \n",
              "5026   300  \n",
              "\n",
              "[5027 rows x 10 columns]"
            ],
            "text/html": [
              "\n",
              "  <div id=\"df-cdf53bf7-dba1-49d3-8cce-c1e6ac3d93e5\">\n",
              "    <div class=\"colab-df-container\">\n",
              "      <div>\n",
              "<style scoped>\n",
              "    .dataframe tbody tr th:only-of-type {\n",
              "        vertical-align: middle;\n",
              "    }\n",
              "\n",
              "    .dataframe tbody tr th {\n",
              "        vertical-align: top;\n",
              "    }\n",
              "\n",
              "    .dataframe thead th {\n",
              "        text-align: right;\n",
              "    }\n",
              "</style>\n",
              "<table border=\"1\" class=\"dataframe\">\n",
              "  <thead>\n",
              "    <tr style=\"text-align: right;\">\n",
              "      <th></th>\n",
              "      <th>Unnamed: 0</th>\n",
              "      <th>Name</th>\n",
              "      <th>Degree</th>\n",
              "      <th>Specialization</th>\n",
              "      <th>Experience</th>\n",
              "      <th>Location</th>\n",
              "      <th>City</th>\n",
              "      <th>Recommendation</th>\n",
              "      <th>Feedback</th>\n",
              "      <th>Fees</th>\n",
              "    </tr>\n",
              "  </thead>\n",
              "  <tbody>\n",
              "    <tr>\n",
              "      <th>0</th>\n",
              "      <td>0</td>\n",
              "      <td>Dr. Sourabh Nagpal</td>\n",
              "      <td>BDS</td>\n",
              "      <td>Dentist</td>\n",
              "      <td>17</td>\n",
              "      <td>Vasant Vihar</td>\n",
              "      <td>Delhi</td>\n",
              "      <td>99</td>\n",
              "      <td>623</td>\n",
              "      <td>500</td>\n",
              "    </tr>\n",
              "    <tr>\n",
              "      <th>1</th>\n",
              "      <td>1</td>\n",
              "      <td>Dr. Meeka Gulati</td>\n",
              "      <td>BDS</td>\n",
              "      <td>Dentist</td>\n",
              "      <td>15</td>\n",
              "      <td>Janakpuri</td>\n",
              "      <td>Delhi</td>\n",
              "      <td>97</td>\n",
              "      <td>108</td>\n",
              "      <td>500</td>\n",
              "    </tr>\n",
              "    <tr>\n",
              "      <th>2</th>\n",
              "      <td>2</td>\n",
              "      <td>Dr. Aparna Singhal</td>\n",
              "      <td>BDS</td>\n",
              "      <td>Dentist</td>\n",
              "      <td>14</td>\n",
              "      <td>Punjabi Bagh</td>\n",
              "      <td>Delhi</td>\n",
              "      <td>98</td>\n",
              "      <td>96</td>\n",
              "      <td>300</td>\n",
              "    </tr>\n",
              "    <tr>\n",
              "      <th>3</th>\n",
              "      <td>3</td>\n",
              "      <td>Dr. Prashant Ojha</td>\n",
              "      <td>MDS</td>\n",
              "      <td>Dentist</td>\n",
              "      <td>16</td>\n",
              "      <td>Saket</td>\n",
              "      <td>Delhi</td>\n",
              "      <td>92</td>\n",
              "      <td>104</td>\n",
              "      <td>300</td>\n",
              "    </tr>\n",
              "    <tr>\n",
              "      <th>4</th>\n",
              "      <td>4</td>\n",
              "      <td>Dr. Anukriti Bansal Aggarwal</td>\n",
              "      <td>BDS</td>\n",
              "      <td>Dentist</td>\n",
              "      <td>10</td>\n",
              "      <td>Rohini Sector 18</td>\n",
              "      <td>Delhi</td>\n",
              "      <td>10</td>\n",
              "      <td>74</td>\n",
              "      <td>400</td>\n",
              "    </tr>\n",
              "    <tr>\n",
              "      <th>...</th>\n",
              "      <td>...</td>\n",
              "      <td>...</td>\n",
              "      <td>...</td>\n",
              "      <td>...</td>\n",
              "      <td>...</td>\n",
              "      <td>...</td>\n",
              "      <td>...</td>\n",
              "      <td>...</td>\n",
              "      <td>...</td>\n",
              "      <td>...</td>\n",
              "    </tr>\n",
              "    <tr>\n",
              "      <th>5022</th>\n",
              "      <td>5053</td>\n",
              "      <td>Dr. Sreesha N</td>\n",
              "      <td>MBBS</td>\n",
              "      <td>Dentist</td>\n",
              "      <td>18</td>\n",
              "      <td>Yelahanka New Town</td>\n",
              "      <td>Bangalore</td>\n",
              "      <td>10</td>\n",
              "      <td>10</td>\n",
              "      <td>300</td>\n",
              "    </tr>\n",
              "    <tr>\n",
              "      <th>5023</th>\n",
              "      <td>5054</td>\n",
              "      <td>Dr. Roshan Varghese</td>\n",
              "      <td>MBBS</td>\n",
              "      <td>Dentist</td>\n",
              "      <td>14</td>\n",
              "      <td>Horamavu</td>\n",
              "      <td>Bangalore</td>\n",
              "      <td>10</td>\n",
              "      <td>55</td>\n",
              "      <td>300</td>\n",
              "    </tr>\n",
              "    <tr>\n",
              "      <th>5024</th>\n",
              "      <td>5055</td>\n",
              "      <td>Dr. Vinayak Raghunathan</td>\n",
              "      <td>MBBS</td>\n",
              "      <td>Dentist</td>\n",
              "      <td>14</td>\n",
              "      <td>JP Nagar</td>\n",
              "      <td>Bangalore</td>\n",
              "      <td>10</td>\n",
              "      <td>145</td>\n",
              "      <td>500</td>\n",
              "    </tr>\n",
              "    <tr>\n",
              "      <th>5025</th>\n",
              "      <td>5056</td>\n",
              "      <td>Dr. Idris Md</td>\n",
              "      <td>MBBS</td>\n",
              "      <td>Dentist</td>\n",
              "      <td>13</td>\n",
              "      <td>Jayanagar 5 Block</td>\n",
              "      <td>Bangalore</td>\n",
              "      <td>99</td>\n",
              "      <td>131</td>\n",
              "      <td>300</td>\n",
              "    </tr>\n",
              "    <tr>\n",
              "      <th>5026</th>\n",
              "      <td>5057</td>\n",
              "      <td>Dr. Prahlad Shenava</td>\n",
              "      <td>MBBS</td>\n",
              "      <td>Dentist</td>\n",
              "      <td>12</td>\n",
              "      <td>Whitefield</td>\n",
              "      <td>Bangalore</td>\n",
              "      <td>98</td>\n",
              "      <td>58</td>\n",
              "      <td>300</td>\n",
              "    </tr>\n",
              "  </tbody>\n",
              "</table>\n",
              "<p>5027 rows × 10 columns</p>\n",
              "</div>\n",
              "      <button class=\"colab-df-convert\" onclick=\"convertToInteractive('df-cdf53bf7-dba1-49d3-8cce-c1e6ac3d93e5')\"\n",
              "              title=\"Convert this dataframe to an interactive table.\"\n",
              "              style=\"display:none;\">\n",
              "        \n",
              "  <svg xmlns=\"http://www.w3.org/2000/svg\" height=\"24px\"viewBox=\"0 0 24 24\"\n",
              "       width=\"24px\">\n",
              "    <path d=\"M0 0h24v24H0V0z\" fill=\"none\"/>\n",
              "    <path d=\"M18.56 5.44l.94 2.06.94-2.06 2.06-.94-2.06-.94-.94-2.06-.94 2.06-2.06.94zm-11 1L8.5 8.5l.94-2.06 2.06-.94-2.06-.94L8.5 2.5l-.94 2.06-2.06.94zm10 10l.94 2.06.94-2.06 2.06-.94-2.06-.94-.94-2.06-.94 2.06-2.06.94z\"/><path d=\"M17.41 7.96l-1.37-1.37c-.4-.4-.92-.59-1.43-.59-.52 0-1.04.2-1.43.59L10.3 9.45l-7.72 7.72c-.78.78-.78 2.05 0 2.83L4 21.41c.39.39.9.59 1.41.59.51 0 1.02-.2 1.41-.59l7.78-7.78 2.81-2.81c.8-.78.8-2.07 0-2.86zM5.41 20L4 18.59l7.72-7.72 1.47 1.35L5.41 20z\"/>\n",
              "  </svg>\n",
              "      </button>\n",
              "      \n",
              "  <style>\n",
              "    .colab-df-container {\n",
              "      display:flex;\n",
              "      flex-wrap:wrap;\n",
              "      gap: 12px;\n",
              "    }\n",
              "\n",
              "    .colab-df-convert {\n",
              "      background-color: #E8F0FE;\n",
              "      border: none;\n",
              "      border-radius: 50%;\n",
              "      cursor: pointer;\n",
              "      display: none;\n",
              "      fill: #1967D2;\n",
              "      height: 32px;\n",
              "      padding: 0 0 0 0;\n",
              "      width: 32px;\n",
              "    }\n",
              "\n",
              "    .colab-df-convert:hover {\n",
              "      background-color: #E2EBFA;\n",
              "      box-shadow: 0px 1px 2px rgba(60, 64, 67, 0.3), 0px 1px 3px 1px rgba(60, 64, 67, 0.15);\n",
              "      fill: #174EA6;\n",
              "    }\n",
              "\n",
              "    [theme=dark] .colab-df-convert {\n",
              "      background-color: #3B4455;\n",
              "      fill: #D2E3FC;\n",
              "    }\n",
              "\n",
              "    [theme=dark] .colab-df-convert:hover {\n",
              "      background-color: #434B5C;\n",
              "      box-shadow: 0px 1px 3px 1px rgba(0, 0, 0, 0.15);\n",
              "      filter: drop-shadow(0px 1px 2px rgba(0, 0, 0, 0.3));\n",
              "      fill: #FFFFFF;\n",
              "    }\n",
              "  </style>\n",
              "\n",
              "      <script>\n",
              "        const buttonEl =\n",
              "          document.querySelector('#df-cdf53bf7-dba1-49d3-8cce-c1e6ac3d93e5 button.colab-df-convert');\n",
              "        buttonEl.style.display =\n",
              "          google.colab.kernel.accessAllowed ? 'block' : 'none';\n",
              "\n",
              "        async function convertToInteractive(key) {\n",
              "          const element = document.querySelector('#df-cdf53bf7-dba1-49d3-8cce-c1e6ac3d93e5');\n",
              "          const dataTable =\n",
              "            await google.colab.kernel.invokeFunction('convertToInteractive',\n",
              "                                                     [key], {});\n",
              "          if (!dataTable) return;\n",
              "\n",
              "          const docLinkHtml = 'Like what you see? Visit the ' +\n",
              "            '<a target=\"_blank\" href=https://colab.research.google.com/notebooks/data_table.ipynb>data table notebook</a>'\n",
              "            + ' to learn more about interactive tables.';\n",
              "          element.innerHTML = '';\n",
              "          dataTable['output_type'] = 'display_data';\n",
              "          await google.colab.output.renderOutput(dataTable, element);\n",
              "          const docLink = document.createElement('div');\n",
              "          docLink.innerHTML = docLinkHtml;\n",
              "          element.appendChild(docLink);\n",
              "        }\n",
              "      </script>\n",
              "    </div>\n",
              "  </div>\n",
              "  "
            ]
          },
          "metadata": {},
          "execution_count": 4
        }
      ]
    },
    {
      "cell_type": "code",
      "source": [
        "df.drop(columns = \"Unnamed: 0\", inplace=True)"
      ],
      "metadata": {
        "id": "Uqcqp7ZT_E31"
      },
      "execution_count": null,
      "outputs": []
    },
    {
      "cell_type": "code",
      "source": [
        "df"
      ],
      "metadata": {
        "colab": {
          "base_uri": "https://localhost:8080/",
          "height": 424
        },
        "id": "N58RFG5cUMIL",
        "outputId": "047e67d2-63c5-4e7a-f24c-cf378c92165a"
      },
      "execution_count": null,
      "outputs": [
        {
          "output_type": "execute_result",
          "data": {
            "text/plain": [
              "                              Name Degree Specialization  Experience  \\\n",
              "0               Dr. Sourabh Nagpal    BDS        Dentist          17   \n",
              "1                 Dr. Meeka Gulati    BDS        Dentist          15   \n",
              "2               Dr. Aparna Singhal    BDS        Dentist          14   \n",
              "3                Dr. Prashant Ojha    MDS        Dentist          16   \n",
              "4     Dr. Anukriti Bansal Aggarwal    BDS        Dentist          10   \n",
              "...                            ...    ...            ...         ...   \n",
              "5022                 Dr. Sreesha N   MBBS        Dentist          18   \n",
              "5023           Dr. Roshan Varghese   MBBS        Dentist          14   \n",
              "5024       Dr. Vinayak Raghunathan   MBBS        Dentist          14   \n",
              "5025                  Dr. Idris Md   MBBS        Dentist          13   \n",
              "5026           Dr. Prahlad Shenava   MBBS        Dentist          12   \n",
              "\n",
              "                Location       City  Recommendation  Feedback  Fees  \n",
              "0           Vasant Vihar      Delhi              99       623   500  \n",
              "1              Janakpuri      Delhi              97       108   500  \n",
              "2           Punjabi Bagh      Delhi              98        96   300  \n",
              "3                  Saket      Delhi              92       104   300  \n",
              "4       Rohini Sector 18      Delhi              10        74   400  \n",
              "...                  ...        ...             ...       ...   ...  \n",
              "5022  Yelahanka New Town  Bangalore              10        10   300  \n",
              "5023            Horamavu  Bangalore              10        55   300  \n",
              "5024            JP Nagar  Bangalore              10       145   500  \n",
              "5025   Jayanagar 5 Block  Bangalore              99       131   300  \n",
              "5026          Whitefield  Bangalore              98        58   300  \n",
              "\n",
              "[5027 rows x 9 columns]"
            ],
            "text/html": [
              "\n",
              "  <div id=\"df-efc0b4a7-8c90-478f-b767-99bbb632c91d\">\n",
              "    <div class=\"colab-df-container\">\n",
              "      <div>\n",
              "<style scoped>\n",
              "    .dataframe tbody tr th:only-of-type {\n",
              "        vertical-align: middle;\n",
              "    }\n",
              "\n",
              "    .dataframe tbody tr th {\n",
              "        vertical-align: top;\n",
              "    }\n",
              "\n",
              "    .dataframe thead th {\n",
              "        text-align: right;\n",
              "    }\n",
              "</style>\n",
              "<table border=\"1\" class=\"dataframe\">\n",
              "  <thead>\n",
              "    <tr style=\"text-align: right;\">\n",
              "      <th></th>\n",
              "      <th>Name</th>\n",
              "      <th>Degree</th>\n",
              "      <th>Specialization</th>\n",
              "      <th>Experience</th>\n",
              "      <th>Location</th>\n",
              "      <th>City</th>\n",
              "      <th>Recommendation</th>\n",
              "      <th>Feedback</th>\n",
              "      <th>Fees</th>\n",
              "    </tr>\n",
              "  </thead>\n",
              "  <tbody>\n",
              "    <tr>\n",
              "      <th>0</th>\n",
              "      <td>Dr. Sourabh Nagpal</td>\n",
              "      <td>BDS</td>\n",
              "      <td>Dentist</td>\n",
              "      <td>17</td>\n",
              "      <td>Vasant Vihar</td>\n",
              "      <td>Delhi</td>\n",
              "      <td>99</td>\n",
              "      <td>623</td>\n",
              "      <td>500</td>\n",
              "    </tr>\n",
              "    <tr>\n",
              "      <th>1</th>\n",
              "      <td>Dr. Meeka Gulati</td>\n",
              "      <td>BDS</td>\n",
              "      <td>Dentist</td>\n",
              "      <td>15</td>\n",
              "      <td>Janakpuri</td>\n",
              "      <td>Delhi</td>\n",
              "      <td>97</td>\n",
              "      <td>108</td>\n",
              "      <td>500</td>\n",
              "    </tr>\n",
              "    <tr>\n",
              "      <th>2</th>\n",
              "      <td>Dr. Aparna Singhal</td>\n",
              "      <td>BDS</td>\n",
              "      <td>Dentist</td>\n",
              "      <td>14</td>\n",
              "      <td>Punjabi Bagh</td>\n",
              "      <td>Delhi</td>\n",
              "      <td>98</td>\n",
              "      <td>96</td>\n",
              "      <td>300</td>\n",
              "    </tr>\n",
              "    <tr>\n",
              "      <th>3</th>\n",
              "      <td>Dr. Prashant Ojha</td>\n",
              "      <td>MDS</td>\n",
              "      <td>Dentist</td>\n",
              "      <td>16</td>\n",
              "      <td>Saket</td>\n",
              "      <td>Delhi</td>\n",
              "      <td>92</td>\n",
              "      <td>104</td>\n",
              "      <td>300</td>\n",
              "    </tr>\n",
              "    <tr>\n",
              "      <th>4</th>\n",
              "      <td>Dr. Anukriti Bansal Aggarwal</td>\n",
              "      <td>BDS</td>\n",
              "      <td>Dentist</td>\n",
              "      <td>10</td>\n",
              "      <td>Rohini Sector 18</td>\n",
              "      <td>Delhi</td>\n",
              "      <td>10</td>\n",
              "      <td>74</td>\n",
              "      <td>400</td>\n",
              "    </tr>\n",
              "    <tr>\n",
              "      <th>...</th>\n",
              "      <td>...</td>\n",
              "      <td>...</td>\n",
              "      <td>...</td>\n",
              "      <td>...</td>\n",
              "      <td>...</td>\n",
              "      <td>...</td>\n",
              "      <td>...</td>\n",
              "      <td>...</td>\n",
              "      <td>...</td>\n",
              "    </tr>\n",
              "    <tr>\n",
              "      <th>5022</th>\n",
              "      <td>Dr. Sreesha N</td>\n",
              "      <td>MBBS</td>\n",
              "      <td>Dentist</td>\n",
              "      <td>18</td>\n",
              "      <td>Yelahanka New Town</td>\n",
              "      <td>Bangalore</td>\n",
              "      <td>10</td>\n",
              "      <td>10</td>\n",
              "      <td>300</td>\n",
              "    </tr>\n",
              "    <tr>\n",
              "      <th>5023</th>\n",
              "      <td>Dr. Roshan Varghese</td>\n",
              "      <td>MBBS</td>\n",
              "      <td>Dentist</td>\n",
              "      <td>14</td>\n",
              "      <td>Horamavu</td>\n",
              "      <td>Bangalore</td>\n",
              "      <td>10</td>\n",
              "      <td>55</td>\n",
              "      <td>300</td>\n",
              "    </tr>\n",
              "    <tr>\n",
              "      <th>5024</th>\n",
              "      <td>Dr. Vinayak Raghunathan</td>\n",
              "      <td>MBBS</td>\n",
              "      <td>Dentist</td>\n",
              "      <td>14</td>\n",
              "      <td>JP Nagar</td>\n",
              "      <td>Bangalore</td>\n",
              "      <td>10</td>\n",
              "      <td>145</td>\n",
              "      <td>500</td>\n",
              "    </tr>\n",
              "    <tr>\n",
              "      <th>5025</th>\n",
              "      <td>Dr. Idris Md</td>\n",
              "      <td>MBBS</td>\n",
              "      <td>Dentist</td>\n",
              "      <td>13</td>\n",
              "      <td>Jayanagar 5 Block</td>\n",
              "      <td>Bangalore</td>\n",
              "      <td>99</td>\n",
              "      <td>131</td>\n",
              "      <td>300</td>\n",
              "    </tr>\n",
              "    <tr>\n",
              "      <th>5026</th>\n",
              "      <td>Dr. Prahlad Shenava</td>\n",
              "      <td>MBBS</td>\n",
              "      <td>Dentist</td>\n",
              "      <td>12</td>\n",
              "      <td>Whitefield</td>\n",
              "      <td>Bangalore</td>\n",
              "      <td>98</td>\n",
              "      <td>58</td>\n",
              "      <td>300</td>\n",
              "    </tr>\n",
              "  </tbody>\n",
              "</table>\n",
              "<p>5027 rows × 9 columns</p>\n",
              "</div>\n",
              "      <button class=\"colab-df-convert\" onclick=\"convertToInteractive('df-efc0b4a7-8c90-478f-b767-99bbb632c91d')\"\n",
              "              title=\"Convert this dataframe to an interactive table.\"\n",
              "              style=\"display:none;\">\n",
              "        \n",
              "  <svg xmlns=\"http://www.w3.org/2000/svg\" height=\"24px\"viewBox=\"0 0 24 24\"\n",
              "       width=\"24px\">\n",
              "    <path d=\"M0 0h24v24H0V0z\" fill=\"none\"/>\n",
              "    <path d=\"M18.56 5.44l.94 2.06.94-2.06 2.06-.94-2.06-.94-.94-2.06-.94 2.06-2.06.94zm-11 1L8.5 8.5l.94-2.06 2.06-.94-2.06-.94L8.5 2.5l-.94 2.06-2.06.94zm10 10l.94 2.06.94-2.06 2.06-.94-2.06-.94-.94-2.06-.94 2.06-2.06.94z\"/><path d=\"M17.41 7.96l-1.37-1.37c-.4-.4-.92-.59-1.43-.59-.52 0-1.04.2-1.43.59L10.3 9.45l-7.72 7.72c-.78.78-.78 2.05 0 2.83L4 21.41c.39.39.9.59 1.41.59.51 0 1.02-.2 1.41-.59l7.78-7.78 2.81-2.81c.8-.78.8-2.07 0-2.86zM5.41 20L4 18.59l7.72-7.72 1.47 1.35L5.41 20z\"/>\n",
              "  </svg>\n",
              "      </button>\n",
              "      \n",
              "  <style>\n",
              "    .colab-df-container {\n",
              "      display:flex;\n",
              "      flex-wrap:wrap;\n",
              "      gap: 12px;\n",
              "    }\n",
              "\n",
              "    .colab-df-convert {\n",
              "      background-color: #E8F0FE;\n",
              "      border: none;\n",
              "      border-radius: 50%;\n",
              "      cursor: pointer;\n",
              "      display: none;\n",
              "      fill: #1967D2;\n",
              "      height: 32px;\n",
              "      padding: 0 0 0 0;\n",
              "      width: 32px;\n",
              "    }\n",
              "\n",
              "    .colab-df-convert:hover {\n",
              "      background-color: #E2EBFA;\n",
              "      box-shadow: 0px 1px 2px rgba(60, 64, 67, 0.3), 0px 1px 3px 1px rgba(60, 64, 67, 0.15);\n",
              "      fill: #174EA6;\n",
              "    }\n",
              "\n",
              "    [theme=dark] .colab-df-convert {\n",
              "      background-color: #3B4455;\n",
              "      fill: #D2E3FC;\n",
              "    }\n",
              "\n",
              "    [theme=dark] .colab-df-convert:hover {\n",
              "      background-color: #434B5C;\n",
              "      box-shadow: 0px 1px 3px 1px rgba(0, 0, 0, 0.15);\n",
              "      filter: drop-shadow(0px 1px 2px rgba(0, 0, 0, 0.3));\n",
              "      fill: #FFFFFF;\n",
              "    }\n",
              "  </style>\n",
              "\n",
              "      <script>\n",
              "        const buttonEl =\n",
              "          document.querySelector('#df-efc0b4a7-8c90-478f-b767-99bbb632c91d button.colab-df-convert');\n",
              "        buttonEl.style.display =\n",
              "          google.colab.kernel.accessAllowed ? 'block' : 'none';\n",
              "\n",
              "        async function convertToInteractive(key) {\n",
              "          const element = document.querySelector('#df-efc0b4a7-8c90-478f-b767-99bbb632c91d');\n",
              "          const dataTable =\n",
              "            await google.colab.kernel.invokeFunction('convertToInteractive',\n",
              "                                                     [key], {});\n",
              "          if (!dataTable) return;\n",
              "\n",
              "          const docLinkHtml = 'Like what you see? Visit the ' +\n",
              "            '<a target=\"_blank\" href=https://colab.research.google.com/notebooks/data_table.ipynb>data table notebook</a>'\n",
              "            + ' to learn more about interactive tables.';\n",
              "          element.innerHTML = '';\n",
              "          dataTable['output_type'] = 'display_data';\n",
              "          await google.colab.output.renderOutput(dataTable, element);\n",
              "          const docLink = document.createElement('div');\n",
              "          docLink.innerHTML = docLinkHtml;\n",
              "          element.appendChild(docLink);\n",
              "        }\n",
              "      </script>\n",
              "    </div>\n",
              "  </div>\n",
              "  "
            ]
          },
          "metadata": {},
          "execution_count": 6
        }
      ]
    },
    {
      "cell_type": "code",
      "source": [
        "for column in df.columns:\n",
        "  print(df[column].value_counts())\n",
        "  print(\"-\"*20)"
      ],
      "metadata": {
        "colab": {
          "base_uri": "https://localhost:8080/"
        },
        "id": "EXorXwlSgQoe",
        "outputId": "c2058aa9-237a-4b41-9537-9f2b47825672"
      },
      "execution_count": null,
      "outputs": [
        {
          "output_type": "stream",
          "name": "stdout",
          "text": [
            "Dr. Mutyalatha Koppula       6\n",
            "Dr. Garima Sharma            5\n",
            "Dr. Pannam Sharma            4\n",
            "Dr. Chandrashekar            4\n",
            "Dr. Pooja Gupta              4\n",
            "                            ..\n",
            "Dr. Karishma Bhate-Chavan    1\n",
            "Dr. Pavitra Shanbhag Bhat    1\n",
            "Dr. A. K. Tandon             1\n",
            "Dr. Pallavi Bipte            1\n",
            "Dr. Prahlad Shenava          1\n",
            "Name: Name, Length: 4217, dtype: int64\n",
            "--------------------\n",
            "MBBS             3170\n",
            "BDS               730\n",
            "BPTh/BPT          236\n",
            "MD                187\n",
            "MS                152\n",
            "MDS                97\n",
            "DNB                90\n",
            "Diploma            40\n",
            "MPTh/MPT           31\n",
            "BSc                30\n",
            "DM                 28\n",
            "MCh                28\n",
            "DGO                28\n",
            "M.D                24\n",
            "Post               24\n",
            "MSc                23\n",
            "M.Sc               14\n",
            "Masters            12\n",
            "Doctor              9\n",
            "DDVL                8\n",
            "FCPS                6\n",
            "B.Sc                6\n",
            "DPM                 5\n",
            "DO                  4\n",
            "Fellow              3\n",
            "BHMS                3\n",
            "FRCS                3\n",
            "PhD                 3\n",
            "MRCOG(UK)           3\n",
            "PGD                 3\n",
            "BAMS                3\n",
            "BNYS                2\n",
            "FRCP                2\n",
            "PG                  2\n",
            "Certificate         2\n",
            "DOMS                2\n",
            "P.G                 2\n",
            "Doctorate           2\n",
            "MRCS                1\n",
            "CCT                 1\n",
            "DDV                 1\n",
            "Certification       1\n",
            "Member              1\n",
            "DNHE                1\n",
            "DHMS                1\n",
            "FNB                 1\n",
            "Ph.D                1\n",
            "Fellowship          1\n",
            "Name: Degree, dtype: int64\n",
            "--------------------\n",
            "Dentist                      826\n",
            "Gynecologist/Obstetrician    754\n",
            "Pediatrician                 467\n",
            "Orthopedist                  433\n",
            "Infertility Specialist       400\n",
            "Dermatologist                361\n",
            "Physiotherapist              293\n",
            "Ophthalmologist              277\n",
            "Cardiologist                 195\n",
            "Psychiatrist                 165\n",
            "Urologist                    151\n",
            "Gastroenterologist           132\n",
            "Dietitian/Nutritionist       127\n",
            "Neurosurgeon                 119\n",
            "Neurologist                  106\n",
            "Pulmonologist                 96\n",
            "Bariatric Surgeon             77\n",
            "Rheumatologist                41\n",
            "Chiropractor                   7\n",
            "Name: Specialization, dtype: int64\n",
            "--------------------\n",
            "14    292\n",
            "12    292\n",
            "13    267\n",
            "11    238\n",
            "16    236\n",
            "     ... \n",
            "60      2\n",
            "63      1\n",
            "61      1\n",
            "58      1\n",
            "57      1\n",
            "Name: Experience, Length: 61, dtype: int64\n",
            "--------------------\n",
            "Whitefield           126\n",
            "Sarita Vihar         124\n",
            "Bannerghatta Road    124\n",
            "Indiranagar          105\n",
            "HSR Layout           104\n",
            "                    ... \n",
            "Patel Nagar East       1\n",
            "Kurla                  1\n",
            "Cumballa Hill          1\n",
            "Dwarka Sector 17       1\n",
            "Khanpur                1\n",
            "Name: Location, Length: 403, dtype: int64\n",
            "--------------------\n",
            "Bangalore    2041\n",
            "Delhi        1674\n",
            "Mumbai       1312\n",
            "Name: City, dtype: int64\n",
            "--------------------\n",
            "10    1552\n",
            "0      590\n",
            "99     400\n",
            "98     400\n",
            "97     338\n",
            "      ... \n",
            "52       1\n",
            "59       1\n",
            "47       1\n",
            "20       1\n",
            "58       1\n",
            "Name: Recommendation, Length: 62, dtype: int64\n",
            "--------------------\n",
            "0      771\n",
            "1      277\n",
            "2      201\n",
            "3      162\n",
            "5      140\n",
            "      ... \n",
            "701      1\n",
            "388      1\n",
            "381      1\n",
            "173      1\n",
            "231      1\n",
            "Name: Feedback, Length: 386, dtype: int64\n",
            "--------------------\n",
            "1000    622\n",
            "500     616\n",
            "800     457\n",
            "600     399\n",
            "1500    372\n",
            "       ... \n",
            "480       1\n",
            "670       1\n",
            "1900      1\n",
            "4100      1\n",
            "669       1\n",
            "Name: Fees, Length: 73, dtype: int64\n",
            "--------------------\n"
          ]
        }
      ]
    },
    {
      "cell_type": "code",
      "source": [
        "degree_count = df['Degree'].value_counts()\n",
        "degree_count_less_3 = degree_count[degree_count <=3]\n",
        "df['Degree'] = df['Degree'].apply(lambda x: 'other' if x in degree_count_less_3 else x)"
      ],
      "metadata": {
        "id": "pkmkOhA1XcXS"
      },
      "execution_count": null,
      "outputs": []
    },
    {
      "cell_type": "code",
      "source": [
        "Location_count = df['Location'].value_counts()\n",
        "Location_count_less_3 = Location_count[Location_count <=3]\n",
        "df['Location'] = df['Location'].apply(lambda x: 'other' if x in Location_count_less_3 else x)"
      ],
      "metadata": {
        "id": "QqnVlRmUbOXq"
      },
      "execution_count": null,
      "outputs": []
    },
    {
      "cell_type": "code",
      "source": [
        "df['Location'].value_counts()"
      ],
      "metadata": {
        "colab": {
          "base_uri": "https://localhost:8080/"
        },
        "id": "nCPaKw3AbIBC",
        "outputId": "66d2a663-e7ea-458d-c4d7-675c7ec9708e"
      },
      "execution_count": null,
      "outputs": [
        {
          "output_type": "execute_result",
          "data": {
            "text/plain": [
              "other                332\n",
              "Whitefield           126\n",
              "Sarita Vihar         124\n",
              "Bannerghatta Road    124\n",
              "Indiranagar          105\n",
              "                    ... \n",
              "Cuffe Parade           4\n",
              "JB Nagar               4\n",
              "Prashant Vihar         4\n",
              "Nirman Vihar           4\n",
              "Shakti Nagar           4\n",
              "Name: Location, Length: 215, dtype: int64"
            ]
          },
          "metadata": {},
          "execution_count": 10
        }
      ]
    },
    {
      "cell_type": "code",
      "source": [
        "df.drop(columns='Name', inplace=True)"
      ],
      "metadata": {
        "id": "mtaKBWbMh92m"
      },
      "execution_count": null,
      "outputs": []
    },
    {
      "cell_type": "code",
      "source": [
        "df.head()"
      ],
      "metadata": {
        "colab": {
          "base_uri": "https://localhost:8080/",
          "height": 206
        },
        "id": "PPJtCS_ah6Jm",
        "outputId": "586d919a-d8dc-4971-ff06-d716a53fe996"
      },
      "execution_count": null,
      "outputs": [
        {
          "output_type": "execute_result",
          "data": {
            "text/plain": [
              "  Degree Specialization  Experience          Location   City  Recommendation  \\\n",
              "0    BDS        Dentist          17      Vasant Vihar  Delhi              99   \n",
              "1    BDS        Dentist          15         Janakpuri  Delhi              97   \n",
              "2    BDS        Dentist          14      Punjabi Bagh  Delhi              98   \n",
              "3    MDS        Dentist          16             Saket  Delhi              92   \n",
              "4    BDS        Dentist          10  Rohini Sector 18  Delhi              10   \n",
              "\n",
              "   Feedback  Fees  \n",
              "0       623   500  \n",
              "1       108   500  \n",
              "2        96   300  \n",
              "3       104   300  \n",
              "4        74   400  "
            ],
            "text/html": [
              "\n",
              "  <div id=\"df-f3981481-eac4-41c9-a7fc-86b39c694f7b\">\n",
              "    <div class=\"colab-df-container\">\n",
              "      <div>\n",
              "<style scoped>\n",
              "    .dataframe tbody tr th:only-of-type {\n",
              "        vertical-align: middle;\n",
              "    }\n",
              "\n",
              "    .dataframe tbody tr th {\n",
              "        vertical-align: top;\n",
              "    }\n",
              "\n",
              "    .dataframe thead th {\n",
              "        text-align: right;\n",
              "    }\n",
              "</style>\n",
              "<table border=\"1\" class=\"dataframe\">\n",
              "  <thead>\n",
              "    <tr style=\"text-align: right;\">\n",
              "      <th></th>\n",
              "      <th>Degree</th>\n",
              "      <th>Specialization</th>\n",
              "      <th>Experience</th>\n",
              "      <th>Location</th>\n",
              "      <th>City</th>\n",
              "      <th>Recommendation</th>\n",
              "      <th>Feedback</th>\n",
              "      <th>Fees</th>\n",
              "    </tr>\n",
              "  </thead>\n",
              "  <tbody>\n",
              "    <tr>\n",
              "      <th>0</th>\n",
              "      <td>BDS</td>\n",
              "      <td>Dentist</td>\n",
              "      <td>17</td>\n",
              "      <td>Vasant Vihar</td>\n",
              "      <td>Delhi</td>\n",
              "      <td>99</td>\n",
              "      <td>623</td>\n",
              "      <td>500</td>\n",
              "    </tr>\n",
              "    <tr>\n",
              "      <th>1</th>\n",
              "      <td>BDS</td>\n",
              "      <td>Dentist</td>\n",
              "      <td>15</td>\n",
              "      <td>Janakpuri</td>\n",
              "      <td>Delhi</td>\n",
              "      <td>97</td>\n",
              "      <td>108</td>\n",
              "      <td>500</td>\n",
              "    </tr>\n",
              "    <tr>\n",
              "      <th>2</th>\n",
              "      <td>BDS</td>\n",
              "      <td>Dentist</td>\n",
              "      <td>14</td>\n",
              "      <td>Punjabi Bagh</td>\n",
              "      <td>Delhi</td>\n",
              "      <td>98</td>\n",
              "      <td>96</td>\n",
              "      <td>300</td>\n",
              "    </tr>\n",
              "    <tr>\n",
              "      <th>3</th>\n",
              "      <td>MDS</td>\n",
              "      <td>Dentist</td>\n",
              "      <td>16</td>\n",
              "      <td>Saket</td>\n",
              "      <td>Delhi</td>\n",
              "      <td>92</td>\n",
              "      <td>104</td>\n",
              "      <td>300</td>\n",
              "    </tr>\n",
              "    <tr>\n",
              "      <th>4</th>\n",
              "      <td>BDS</td>\n",
              "      <td>Dentist</td>\n",
              "      <td>10</td>\n",
              "      <td>Rohini Sector 18</td>\n",
              "      <td>Delhi</td>\n",
              "      <td>10</td>\n",
              "      <td>74</td>\n",
              "      <td>400</td>\n",
              "    </tr>\n",
              "  </tbody>\n",
              "</table>\n",
              "</div>\n",
              "      <button class=\"colab-df-convert\" onclick=\"convertToInteractive('df-f3981481-eac4-41c9-a7fc-86b39c694f7b')\"\n",
              "              title=\"Convert this dataframe to an interactive table.\"\n",
              "              style=\"display:none;\">\n",
              "        \n",
              "  <svg xmlns=\"http://www.w3.org/2000/svg\" height=\"24px\"viewBox=\"0 0 24 24\"\n",
              "       width=\"24px\">\n",
              "    <path d=\"M0 0h24v24H0V0z\" fill=\"none\"/>\n",
              "    <path d=\"M18.56 5.44l.94 2.06.94-2.06 2.06-.94-2.06-.94-.94-2.06-.94 2.06-2.06.94zm-11 1L8.5 8.5l.94-2.06 2.06-.94-2.06-.94L8.5 2.5l-.94 2.06-2.06.94zm10 10l.94 2.06.94-2.06 2.06-.94-2.06-.94-.94-2.06-.94 2.06-2.06.94z\"/><path d=\"M17.41 7.96l-1.37-1.37c-.4-.4-.92-.59-1.43-.59-.52 0-1.04.2-1.43.59L10.3 9.45l-7.72 7.72c-.78.78-.78 2.05 0 2.83L4 21.41c.39.39.9.59 1.41.59.51 0 1.02-.2 1.41-.59l7.78-7.78 2.81-2.81c.8-.78.8-2.07 0-2.86zM5.41 20L4 18.59l7.72-7.72 1.47 1.35L5.41 20z\"/>\n",
              "  </svg>\n",
              "      </button>\n",
              "      \n",
              "  <style>\n",
              "    .colab-df-container {\n",
              "      display:flex;\n",
              "      flex-wrap:wrap;\n",
              "      gap: 12px;\n",
              "    }\n",
              "\n",
              "    .colab-df-convert {\n",
              "      background-color: #E8F0FE;\n",
              "      border: none;\n",
              "      border-radius: 50%;\n",
              "      cursor: pointer;\n",
              "      display: none;\n",
              "      fill: #1967D2;\n",
              "      height: 32px;\n",
              "      padding: 0 0 0 0;\n",
              "      width: 32px;\n",
              "    }\n",
              "\n",
              "    .colab-df-convert:hover {\n",
              "      background-color: #E2EBFA;\n",
              "      box-shadow: 0px 1px 2px rgba(60, 64, 67, 0.3), 0px 1px 3px 1px rgba(60, 64, 67, 0.15);\n",
              "      fill: #174EA6;\n",
              "    }\n",
              "\n",
              "    [theme=dark] .colab-df-convert {\n",
              "      background-color: #3B4455;\n",
              "      fill: #D2E3FC;\n",
              "    }\n",
              "\n",
              "    [theme=dark] .colab-df-convert:hover {\n",
              "      background-color: #434B5C;\n",
              "      box-shadow: 0px 1px 3px 1px rgba(0, 0, 0, 0.15);\n",
              "      filter: drop-shadow(0px 1px 2px rgba(0, 0, 0, 0.3));\n",
              "      fill: #FFFFFF;\n",
              "    }\n",
              "  </style>\n",
              "\n",
              "      <script>\n",
              "        const buttonEl =\n",
              "          document.querySelector('#df-f3981481-eac4-41c9-a7fc-86b39c694f7b button.colab-df-convert');\n",
              "        buttonEl.style.display =\n",
              "          google.colab.kernel.accessAllowed ? 'block' : 'none';\n",
              "\n",
              "        async function convertToInteractive(key) {\n",
              "          const element = document.querySelector('#df-f3981481-eac4-41c9-a7fc-86b39c694f7b');\n",
              "          const dataTable =\n",
              "            await google.colab.kernel.invokeFunction('convertToInteractive',\n",
              "                                                     [key], {});\n",
              "          if (!dataTable) return;\n",
              "\n",
              "          const docLinkHtml = 'Like what you see? Visit the ' +\n",
              "            '<a target=\"_blank\" href=https://colab.research.google.com/notebooks/data_table.ipynb>data table notebook</a>'\n",
              "            + ' to learn more about interactive tables.';\n",
              "          element.innerHTML = '';\n",
              "          dataTable['output_type'] = 'display_data';\n",
              "          await google.colab.output.renderOutput(dataTable, element);\n",
              "          const docLink = document.createElement('div');\n",
              "          docLink.innerHTML = docLinkHtml;\n",
              "          element.appendChild(docLink);\n",
              "        }\n",
              "      </script>\n",
              "    </div>\n",
              "  </div>\n",
              "  "
            ]
          },
          "metadata": {},
          "execution_count": 12
        }
      ]
    },
    {
      "cell_type": "code",
      "source": [
        "df.info()"
      ],
      "metadata": {
        "colab": {
          "base_uri": "https://localhost:8080/"
        },
        "id": "YVIRk6Z7H6av",
        "outputId": "6e027b57-53ee-495e-d383-64813c8af1d2"
      },
      "execution_count": null,
      "outputs": [
        {
          "output_type": "stream",
          "name": "stdout",
          "text": [
            "<class 'pandas.core.frame.DataFrame'>\n",
            "RangeIndex: 5027 entries, 0 to 5026\n",
            "Data columns (total 8 columns):\n",
            " #   Column          Non-Null Count  Dtype \n",
            "---  ------          --------------  ----- \n",
            " 0   Degree          5027 non-null   object\n",
            " 1   Specialization  5027 non-null   object\n",
            " 2   Experience      5027 non-null   int64 \n",
            " 3   Location        5027 non-null   object\n",
            " 4   City            5027 non-null   object\n",
            " 5   Recommendation  5027 non-null   int64 \n",
            " 6   Feedback        5027 non-null   int64 \n",
            " 7   Fees            5027 non-null   int64 \n",
            "dtypes: int64(4), object(4)\n",
            "memory usage: 314.3+ KB\n"
          ]
        }
      ]
    },
    {
      "cell_type": "code",
      "source": [
        "X= df.drop(columns='Fees')\n",
        "Y = df['Fees']"
      ],
      "metadata": {
        "id": "4y_4qRXgh9CO"
      },
      "execution_count": null,
      "outputs": []
    },
    {
      "cell_type": "code",
      "source": [
        "from sklearn.model_selection import train_test_split\n",
        "from sklearn.linear_model import LinearRegression\n",
        "from sklearn.preprocessing import OneHotEncoder, StandardScaler\n",
        "from sklearn.compose import make_column_transformer\n",
        "from sklearn.pipeline import make_pipeline\n",
        "from sklearn.metrics import r2_score"
      ],
      "metadata": {
        "id": "0St6723iidhe"
      },
      "execution_count": null,
      "outputs": []
    },
    {
      "cell_type": "code",
      "source": [
        "X_train,X_test,Y_train,Y_test =train_test_split(X,Y, test_size=0.2,random_state=45)"
      ],
      "metadata": {
        "id": "Beh9u3jFjEIR"
      },
      "execution_count": null,
      "outputs": []
    },
    {
      "cell_type": "code",
      "source": [
        "X_train.shape"
      ],
      "metadata": {
        "colab": {
          "base_uri": "https://localhost:8080/"
        },
        "id": "4PVrvB_LkCDF",
        "outputId": "ad083956-c2bd-424c-c27c-4a4f99f1cb93"
      },
      "execution_count": null,
      "outputs": [
        {
          "output_type": "execute_result",
          "data": {
            "text/plain": [
              "(4021, 7)"
            ]
          },
          "metadata": {},
          "execution_count": 17
        }
      ]
    },
    {
      "cell_type": "code",
      "source": [
        "Y_train.shape"
      ],
      "metadata": {
        "colab": {
          "base_uri": "https://localhost:8080/"
        },
        "id": "ugUCvrvkkI39",
        "outputId": "547da4f1-093b-41fe-e1bc-109ac0c65fbd"
      },
      "execution_count": null,
      "outputs": [
        {
          "output_type": "execute_result",
          "data": {
            "text/plain": [
              "(4021,)"
            ]
          },
          "metadata": {},
          "execution_count": 18
        }
      ]
    },
    {
      "cell_type": "markdown",
      "source": [
        "Apply Linear Regression"
      ],
      "metadata": {
        "id": "d2h78Rqpjyh-"
      }
    },
    {
      "cell_type": "code",
      "source": [
        "column_trans = make_column_transformer((OneHotEncoder(sparse=False),['Degree',\t'Specialization','Location',\t'City']),remainder='passthrough')"
      ],
      "metadata": {
        "id": "Sdzb43t4jw41"
      },
      "execution_count": null,
      "outputs": []
    },
    {
      "cell_type": "code",
      "source": [
        "column_trans"
      ],
      "metadata": {
        "colab": {
          "base_uri": "https://localhost:8080/"
        },
        "id": "Zzbsgf7xW-Or",
        "outputId": "6097b25e-71e2-46ee-bd05-238da7414480"
      },
      "execution_count": null,
      "outputs": [
        {
          "output_type": "execute_result",
          "data": {
            "text/plain": [
              "ColumnTransformer(remainder='passthrough',\n",
              "                  transformers=[('onehotencoder', OneHotEncoder(sparse=False),\n",
              "                                 ['Degree', 'Specialization', 'Location',\n",
              "                                  'City'])])"
            ]
          },
          "metadata": {},
          "execution_count": 20
        }
      ]
    },
    {
      "cell_type": "code",
      "source": [
        "scaler = StandardScaler()"
      ],
      "metadata": {
        "id": "DuZI7_2jkn20"
      },
      "execution_count": null,
      "outputs": []
    },
    {
      "cell_type": "code",
      "source": [
        "lr = LinearRegression()"
      ],
      "metadata": {
        "id": "qeoG8kfkktAn"
      },
      "execution_count": null,
      "outputs": []
    },
    {
      "cell_type": "code",
      "source": [
        "pipe =make_pipeline(column_trans,scaler,lr)"
      ],
      "metadata": {
        "id": "Mvo8247xk1Ll"
      },
      "execution_count": null,
      "outputs": []
    },
    {
      "cell_type": "code",
      "source": [
        "pipe.fit(X_train,Y_train)"
      ],
      "metadata": {
        "colab": {
          "base_uri": "https://localhost:8080/"
        },
        "id": "V_JSrHuxk8TN",
        "outputId": "e87ad075-efb5-43c3-a96f-970953b4556b"
      },
      "execution_count": null,
      "outputs": [
        {
          "output_type": "execute_result",
          "data": {
            "text/plain": [
              "Pipeline(steps=[('columntransformer',\n",
              "                 ColumnTransformer(remainder='passthrough',\n",
              "                                   transformers=[('onehotencoder',\n",
              "                                                  OneHotEncoder(sparse=False),\n",
              "                                                  ['Degree', 'Specialization',\n",
              "                                                   'Location', 'City'])])),\n",
              "                ('standardscaler', StandardScaler()),\n",
              "                ('linearregression', LinearRegression())])"
            ]
          },
          "metadata": {},
          "execution_count": 24
        }
      ]
    },
    {
      "cell_type": "code",
      "source": [
        "X_test"
      ],
      "metadata": {
        "colab": {
          "base_uri": "https://localhost:8080/",
          "height": 424
        },
        "id": "GP27lpuM7SEJ",
        "outputId": "c3ed5cf3-926a-442b-8136-7e73081961da"
      },
      "execution_count": null,
      "outputs": [
        {
          "output_type": "execute_result",
          "data": {
            "text/plain": [
              "     Degree             Specialization  Experience           Location  \\\n",
              "4769    BDS  Gynecologist/Obstetrician          31       Lajpat Nagar   \n",
              "1891   MBBS         Gastroenterologist          15  Bannerghatta Road   \n",
              "633     DNB               Psychiatrist          34       Sarita Vihar   \n",
              "1756   MBBS               Psychiatrist           8              Dadar   \n",
              "4992   MBBS                    Dentist          16          Janakpuri   \n",
              "...     ...                        ...         ...                ...   \n",
              "667    MBBS                Neurologist          30       Sarita Vihar   \n",
              "4969   MBBS                    Dentist           8     Mira Bhayandar   \n",
              "4752   MBBS  Gynecologist/Obstetrician          13    Cunningham Road   \n",
              "2798   MBBS              Dermatologist          18         Whitefield   \n",
              "2426     MD            Physiotherapist          10        Mulund West   \n",
              "\n",
              "           City  Recommendation  Feedback  \n",
              "4769      Delhi              10        27  \n",
              "1891  Bangalore               0         0  \n",
              "633       Delhi              57         6  \n",
              "1756     Mumbai              10         1  \n",
              "4992      Delhi              99        95  \n",
              "...         ...             ...       ...  \n",
              "667       Delhi              10         7  \n",
              "4969     Mumbai              10         3  \n",
              "4752  Bangalore              98        24  \n",
              "2798  Bangalore              96        24  \n",
              "2426     Mumbai              93         6  \n",
              "\n",
              "[1006 rows x 7 columns]"
            ],
            "text/html": [
              "\n",
              "  <div id=\"df-144b4ce9-b11d-4131-85af-29242deb0072\">\n",
              "    <div class=\"colab-df-container\">\n",
              "      <div>\n",
              "<style scoped>\n",
              "    .dataframe tbody tr th:only-of-type {\n",
              "        vertical-align: middle;\n",
              "    }\n",
              "\n",
              "    .dataframe tbody tr th {\n",
              "        vertical-align: top;\n",
              "    }\n",
              "\n",
              "    .dataframe thead th {\n",
              "        text-align: right;\n",
              "    }\n",
              "</style>\n",
              "<table border=\"1\" class=\"dataframe\">\n",
              "  <thead>\n",
              "    <tr style=\"text-align: right;\">\n",
              "      <th></th>\n",
              "      <th>Degree</th>\n",
              "      <th>Specialization</th>\n",
              "      <th>Experience</th>\n",
              "      <th>Location</th>\n",
              "      <th>City</th>\n",
              "      <th>Recommendation</th>\n",
              "      <th>Feedback</th>\n",
              "    </tr>\n",
              "  </thead>\n",
              "  <tbody>\n",
              "    <tr>\n",
              "      <th>4769</th>\n",
              "      <td>BDS</td>\n",
              "      <td>Gynecologist/Obstetrician</td>\n",
              "      <td>31</td>\n",
              "      <td>Lajpat Nagar</td>\n",
              "      <td>Delhi</td>\n",
              "      <td>10</td>\n",
              "      <td>27</td>\n",
              "    </tr>\n",
              "    <tr>\n",
              "      <th>1891</th>\n",
              "      <td>MBBS</td>\n",
              "      <td>Gastroenterologist</td>\n",
              "      <td>15</td>\n",
              "      <td>Bannerghatta Road</td>\n",
              "      <td>Bangalore</td>\n",
              "      <td>0</td>\n",
              "      <td>0</td>\n",
              "    </tr>\n",
              "    <tr>\n",
              "      <th>633</th>\n",
              "      <td>DNB</td>\n",
              "      <td>Psychiatrist</td>\n",
              "      <td>34</td>\n",
              "      <td>Sarita Vihar</td>\n",
              "      <td>Delhi</td>\n",
              "      <td>57</td>\n",
              "      <td>6</td>\n",
              "    </tr>\n",
              "    <tr>\n",
              "      <th>1756</th>\n",
              "      <td>MBBS</td>\n",
              "      <td>Psychiatrist</td>\n",
              "      <td>8</td>\n",
              "      <td>Dadar</td>\n",
              "      <td>Mumbai</td>\n",
              "      <td>10</td>\n",
              "      <td>1</td>\n",
              "    </tr>\n",
              "    <tr>\n",
              "      <th>4992</th>\n",
              "      <td>MBBS</td>\n",
              "      <td>Dentist</td>\n",
              "      <td>16</td>\n",
              "      <td>Janakpuri</td>\n",
              "      <td>Delhi</td>\n",
              "      <td>99</td>\n",
              "      <td>95</td>\n",
              "    </tr>\n",
              "    <tr>\n",
              "      <th>...</th>\n",
              "      <td>...</td>\n",
              "      <td>...</td>\n",
              "      <td>...</td>\n",
              "      <td>...</td>\n",
              "      <td>...</td>\n",
              "      <td>...</td>\n",
              "      <td>...</td>\n",
              "    </tr>\n",
              "    <tr>\n",
              "      <th>667</th>\n",
              "      <td>MBBS</td>\n",
              "      <td>Neurologist</td>\n",
              "      <td>30</td>\n",
              "      <td>Sarita Vihar</td>\n",
              "      <td>Delhi</td>\n",
              "      <td>10</td>\n",
              "      <td>7</td>\n",
              "    </tr>\n",
              "    <tr>\n",
              "      <th>4969</th>\n",
              "      <td>MBBS</td>\n",
              "      <td>Dentist</td>\n",
              "      <td>8</td>\n",
              "      <td>Mira Bhayandar</td>\n",
              "      <td>Mumbai</td>\n",
              "      <td>10</td>\n",
              "      <td>3</td>\n",
              "    </tr>\n",
              "    <tr>\n",
              "      <th>4752</th>\n",
              "      <td>MBBS</td>\n",
              "      <td>Gynecologist/Obstetrician</td>\n",
              "      <td>13</td>\n",
              "      <td>Cunningham Road</td>\n",
              "      <td>Bangalore</td>\n",
              "      <td>98</td>\n",
              "      <td>24</td>\n",
              "    </tr>\n",
              "    <tr>\n",
              "      <th>2798</th>\n",
              "      <td>MBBS</td>\n",
              "      <td>Dermatologist</td>\n",
              "      <td>18</td>\n",
              "      <td>Whitefield</td>\n",
              "      <td>Bangalore</td>\n",
              "      <td>96</td>\n",
              "      <td>24</td>\n",
              "    </tr>\n",
              "    <tr>\n",
              "      <th>2426</th>\n",
              "      <td>MD</td>\n",
              "      <td>Physiotherapist</td>\n",
              "      <td>10</td>\n",
              "      <td>Mulund West</td>\n",
              "      <td>Mumbai</td>\n",
              "      <td>93</td>\n",
              "      <td>6</td>\n",
              "    </tr>\n",
              "  </tbody>\n",
              "</table>\n",
              "<p>1006 rows × 7 columns</p>\n",
              "</div>\n",
              "      <button class=\"colab-df-convert\" onclick=\"convertToInteractive('df-144b4ce9-b11d-4131-85af-29242deb0072')\"\n",
              "              title=\"Convert this dataframe to an interactive table.\"\n",
              "              style=\"display:none;\">\n",
              "        \n",
              "  <svg xmlns=\"http://www.w3.org/2000/svg\" height=\"24px\"viewBox=\"0 0 24 24\"\n",
              "       width=\"24px\">\n",
              "    <path d=\"M0 0h24v24H0V0z\" fill=\"none\"/>\n",
              "    <path d=\"M18.56 5.44l.94 2.06.94-2.06 2.06-.94-2.06-.94-.94-2.06-.94 2.06-2.06.94zm-11 1L8.5 8.5l.94-2.06 2.06-.94-2.06-.94L8.5 2.5l-.94 2.06-2.06.94zm10 10l.94 2.06.94-2.06 2.06-.94-2.06-.94-.94-2.06-.94 2.06-2.06.94z\"/><path d=\"M17.41 7.96l-1.37-1.37c-.4-.4-.92-.59-1.43-.59-.52 0-1.04.2-1.43.59L10.3 9.45l-7.72 7.72c-.78.78-.78 2.05 0 2.83L4 21.41c.39.39.9.59 1.41.59.51 0 1.02-.2 1.41-.59l7.78-7.78 2.81-2.81c.8-.78.8-2.07 0-2.86zM5.41 20L4 18.59l7.72-7.72 1.47 1.35L5.41 20z\"/>\n",
              "  </svg>\n",
              "      </button>\n",
              "      \n",
              "  <style>\n",
              "    .colab-df-container {\n",
              "      display:flex;\n",
              "      flex-wrap:wrap;\n",
              "      gap: 12px;\n",
              "    }\n",
              "\n",
              "    .colab-df-convert {\n",
              "      background-color: #E8F0FE;\n",
              "      border: none;\n",
              "      border-radius: 50%;\n",
              "      cursor: pointer;\n",
              "      display: none;\n",
              "      fill: #1967D2;\n",
              "      height: 32px;\n",
              "      padding: 0 0 0 0;\n",
              "      width: 32px;\n",
              "    }\n",
              "\n",
              "    .colab-df-convert:hover {\n",
              "      background-color: #E2EBFA;\n",
              "      box-shadow: 0px 1px 2px rgba(60, 64, 67, 0.3), 0px 1px 3px 1px rgba(60, 64, 67, 0.15);\n",
              "      fill: #174EA6;\n",
              "    }\n",
              "\n",
              "    [theme=dark] .colab-df-convert {\n",
              "      background-color: #3B4455;\n",
              "      fill: #D2E3FC;\n",
              "    }\n",
              "\n",
              "    [theme=dark] .colab-df-convert:hover {\n",
              "      background-color: #434B5C;\n",
              "      box-shadow: 0px 1px 3px 1px rgba(0, 0, 0, 0.15);\n",
              "      filter: drop-shadow(0px 1px 2px rgba(0, 0, 0, 0.3));\n",
              "      fill: #FFFFFF;\n",
              "    }\n",
              "  </style>\n",
              "\n",
              "      <script>\n",
              "        const buttonEl =\n",
              "          document.querySelector('#df-144b4ce9-b11d-4131-85af-29242deb0072 button.colab-df-convert');\n",
              "        buttonEl.style.display =\n",
              "          google.colab.kernel.accessAllowed ? 'block' : 'none';\n",
              "\n",
              "        async function convertToInteractive(key) {\n",
              "          const element = document.querySelector('#df-144b4ce9-b11d-4131-85af-29242deb0072');\n",
              "          const dataTable =\n",
              "            await google.colab.kernel.invokeFunction('convertToInteractive',\n",
              "                                                     [key], {});\n",
              "          if (!dataTable) return;\n",
              "\n",
              "          const docLinkHtml = 'Like what you see? Visit the ' +\n",
              "            '<a target=\"_blank\" href=https://colab.research.google.com/notebooks/data_table.ipynb>data table notebook</a>'\n",
              "            + ' to learn more about interactive tables.';\n",
              "          element.innerHTML = '';\n",
              "          dataTable['output_type'] = 'display_data';\n",
              "          await google.colab.output.renderOutput(dataTable, element);\n",
              "          const docLink = document.createElement('div');\n",
              "          docLink.innerHTML = docLinkHtml;\n",
              "          element.appendChild(docLink);\n",
              "        }\n",
              "      </script>\n",
              "    </div>\n",
              "  </div>\n",
              "  "
            ]
          },
          "metadata": {},
          "execution_count": 25
        }
      ]
    },
    {
      "cell_type": "code",
      "source": [
        "Y_pred_lr= pipe.predict(X_test)"
      ],
      "metadata": {
        "id": "wIkpUIP8lLG1"
      },
      "execution_count": null,
      "outputs": []
    },
    {
      "cell_type": "code",
      "source": [
        "pipe.predict(X_test)"
      ],
      "metadata": {
        "colab": {
          "base_uri": "https://localhost:8080/"
        },
        "id": "qs2QUxXO7MQh",
        "outputId": "8b8be11f-d6fa-4a86-f085-1deb2c17d894"
      },
      "execution_count": null,
      "outputs": [
        {
          "output_type": "execute_result",
          "data": {
            "text/plain": [
              "array([ 706.16339133,  833.33979096, 1995.93947993, ...,  446.48854684,\n",
              "        792.23854684, 1045.18947993])"
            ]
          },
          "metadata": {},
          "execution_count": 27
        }
      ]
    },
    {
      "cell_type": "code",
      "source": [
        "r2_score(Y_test,Y_pred_lr)"
      ],
      "metadata": {
        "colab": {
          "base_uri": "https://localhost:8080/"
        },
        "id": "fLROpSLcb-qq",
        "outputId": "c05071e5-80ad-4fd9-9d24-5c699817f9a5"
      },
      "execution_count": null,
      "outputs": [
        {
          "output_type": "execute_result",
          "data": {
            "text/plain": [
              "0.5682510985040732"
            ]
          },
          "metadata": {},
          "execution_count": 28
        }
      ]
    },
    {
      "cell_type": "code",
      "source": [],
      "metadata": {
        "id": "Uo3EIg7uvaxM"
      },
      "execution_count": null,
      "outputs": []
    },
    {
      "cell_type": "markdown",
      "source": [
        "Importing Pickle"
      ],
      "metadata": {
        "id": "dB57UJzNMvhw"
      }
    },
    {
      "cell_type": "code",
      "source": [
        "import pickle"
      ],
      "metadata": {
        "id": "tJvlIntiF6jX"
      },
      "execution_count": null,
      "outputs": []
    },
    {
      "cell_type": "code",
      "source": [
        "pickle.dump(pipe, open('LinearModel.pkl','wb'))"
      ],
      "metadata": {
        "id": "0wEIslnZF0eT"
      },
      "execution_count": null,
      "outputs": []
    },
    {
      "cell_type": "code",
      "source": [
        "pipe = pickle.load(open('./LinearModel.pkl','rb'))"
      ],
      "metadata": {
        "id": "CJuZ_Hco7E8K"
      },
      "execution_count": null,
      "outputs": []
    },
    {
      "cell_type": "code",
      "source": [
        "pipe.predict(pd.DataFrame([{\"Degree\":'BDS', \"Specialization\":'Dentist', \"Experience\": 17, \"Location\": 'other', \"City\": 'Delhi',\"Recommendation\": 99, \"Feedback\": 623 }]))[0]"
      ],
      "metadata": {
        "colab": {
          "base_uri": "https://localhost:8080/"
        },
        "id": "fdk4ONCTG3uJ",
        "outputId": "2b4f74c3-66e1-4f89-e7f3-d281378a66ff"
      },
      "execution_count": null,
      "outputs": [
        {
          "output_type": "execute_result",
          "data": {
            "text/plain": [
              "490.57928793008347"
            ]
          },
          "metadata": {},
          "execution_count": 32
        }
      ]
    }
  ]
}