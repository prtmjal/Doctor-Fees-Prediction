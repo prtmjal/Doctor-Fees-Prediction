{
  "cells": [
    {
      "cell_type": "code",
      "execution_count": 25,
      "metadata": {
        "colab": {
          "base_uri": "https://localhost:8080/"
        },
        "id": "egHYDsaAEiFd",
        "outputId": "ca0f6cb4-65b1-4753-9e8c-84afc09b8b46"
      },
      "outputs": [
        {
          "output_type": "stream",
          "name": "stdout",
          "text": [
            "Looking in indexes: https://pypi.org/simple, https://us-python.pkg.dev/colab-wheels/public/simple/\n",
            "Requirement already satisfied: flask in /usr/local/lib/python3.8/dist-packages (1.1.4)\n",
            "Requirement already satisfied: Jinja2<3.0,>=2.10.1 in /usr/local/lib/python3.8/dist-packages (from flask) (2.11.3)\n",
            "Requirement already satisfied: click<8.0,>=5.1 in /usr/local/lib/python3.8/dist-packages (from flask) (7.1.2)\n",
            "Requirement already satisfied: itsdangerous<2.0,>=0.24 in /usr/local/lib/python3.8/dist-packages (from flask) (1.1.0)\n",
            "Requirement already satisfied: Werkzeug<2.0,>=0.15 in /usr/local/lib/python3.8/dist-packages (from flask) (1.0.1)\n",
            "Requirement already satisfied: MarkupSafe>=0.23 in /usr/local/lib/python3.8/dist-packages (from Jinja2<3.0,>=2.10.1->flask) (2.0.1)\n"
          ]
        }
      ],
      "source": [
        "pip install flask"
      ]
    },
    {
      "cell_type": "code",
      "execution_count": 26,
      "metadata": {
        "colab": {
          "base_uri": "https://localhost:8080/"
        },
        "id": "q20REOW2EjTE",
        "outputId": "a791234d-27f4-4995-8670-842753f28183"
      },
      "outputs": [
        {
          "output_type": "stream",
          "name": "stdout",
          "text": [
            "Looking in indexes: https://pypi.org/simple, https://us-python.pkg.dev/colab-wheels/public/simple/\n",
            "Requirement already satisfied: gevent in /usr/local/lib/python3.8/dist-packages (22.10.2)\n",
            "Requirement already satisfied: setuptools in /usr/local/lib/python3.8/dist-packages (from gevent) (57.4.0)\n",
            "Requirement already satisfied: zope.event in /usr/local/lib/python3.8/dist-packages (from gevent) (4.6)\n",
            "Requirement already satisfied: greenlet>=2.0.0 in /usr/local/lib/python3.8/dist-packages (from gevent) (2.0.1)\n",
            "Requirement already satisfied: zope.interface in /usr/local/lib/python3.8/dist-packages (from gevent) (5.5.2)\n"
          ]
        }
      ],
      "source": [
        "pip install gevent"
      ]
    },
    {
      "cell_type": "code",
      "execution_count": 27,
      "metadata": {
        "id": "H4GRWTscEdtV"
      },
      "outputs": [],
      "source": [
        "# Import necessary libraries\n",
        "import pickle\n",
        "import pandas as pd\n",
        "from flask import Flask, render_template, request"
      ]
    },
    {
      "cell_type": "code",
      "execution_count": 28,
      "metadata": {
        "id": "TkABxUl8EpiM"
      },
      "outputs": [],
      "source": [
        "# Read your dataframe\n",
        "df = pd.read_csv(\"/content/drive/MyDrive/ML Dataset/Practo/practo_cleandata.csv\")"
      ]
    },
    {
      "cell_type": "code",
      "execution_count": 29,
      "metadata": {
        "id": "1NXbcA_HEs3M"
      },
      "outputs": [],
      "source": [
        "# Load the pickle file\n",
        "with open('/content/drive/MyDrive/ML Dataset/Practo/Deplyoment/LinearModel.pkl', 'rb') as f:\n",
        "    model = pickle.load(f)"
      ]
    },
    {
      "cell_type": "code",
      "execution_count": 30,
      "metadata": {
        "id": "s00Bb6BGEwDc"
      },
      "outputs": [],
      "source": [
        "# Create a Flask app\n",
        "app = Flask(__name__,template_folder='/content/drive/MyDrive/ML Dataset/Practo/Deplyoment/templetes')"
      ]
    },
    {
      "cell_type": "code",
      "execution_count": 31,
      "metadata": {
        "id": "uiRz1dg_KTmt"
      },
      "outputs": [],
      "source": [
        "@app.route('/', methods=['GET', 'POST'])\n",
        "def index():\n",
        "    # Initialize lists\n",
        "    specialities = df.Specialization.unique().tolist()\n",
        "    degrees = df.Degree.unique().tolist()\n",
        "    locations = df.Location.unique().tolist()\n",
        "    cities = df.City.unique().tolist()\n",
        "    if request.method == 'POST':\n",
        "        # Get the data from the form\n",
        "        degree = request.form.get('degrees')\n",
        "        specialization = request.form.get('specialities')\n",
        "        experience = int(request.form.get('experience'))\n",
        "        location = request.form.get('locations')\n",
        "        city = request.form.get('cities')\n",
        "        recommendation = int(request.form.get('recommendation'))\n",
        "        feedback = int(request.form.get('feedback'))\n",
        "        \n",
        "        if not all([degree, specialization, experience, location, city, recommendation, feedback]):\n",
        "            return \"Please fill in all the form fields!\"\n",
        "        else:\n",
        "            experience = int(experience)\n",
        "            recommendation = int(recommendation)\n",
        "            feedback = int(feedback)\n",
        "          \n",
        "            prediction = round(model.predict(pd.DataFrame([{\"Degree\":degree, \"Specialization\":specialization, \"Experience\": experience, \"Location\": 'other', \"City\": city,\"Recommendation\": recommendation, \"Feedback\": feedback }]))[0],2)\n",
        "            pred = \"The Predicted Fees is Rs. \"+str(prediction)+\"/-\"\n",
        "\n",
        "            if isinstance(prediction, (int,float)):\n",
        "                return render_template('index.html', specialities=specialities, degrees=degrees, locations=locations, cities=cities, prediction=pred)\n",
        "            else:\n",
        "                return \"Prediction not a number\"\n",
        "    else:\n",
        "        return render_template('index.html', specialities=specialities, degrees=degrees, locations=locations, cities=cities)\n"
      ]
    },
    {
      "cell_type": "code",
      "execution_count": 32,
      "metadata": {
        "colab": {
          "base_uri": "https://localhost:8080/",
          "height": 415
        },
        "id": "4JwXTAp3EnU0",
        "outputId": "8dd537f5-a589-493d-cc3c-6456f5d900cc"
      },
      "outputs": [
        {
          "output_type": "display_data",
          "data": {
            "text/plain": [
              "<IPython.core.display.Javascript object>"
            ],
            "application/javascript": [
              "(async (port, path, text, element) => {\n",
              "    if (!google.colab.kernel.accessAllowed) {\n",
              "      return;\n",
              "    }\n",
              "    element.appendChild(document.createTextNode(''));\n",
              "    const url = await google.colab.kernel.proxyPort(port);\n",
              "    const anchor = document.createElement('a');\n",
              "    anchor.href = new URL(path, url).toString();\n",
              "    anchor.target = '_blank';\n",
              "    anchor.setAttribute('data-href', url + path);\n",
              "    anchor.textContent = text;\n",
              "    element.appendChild(anchor);\n",
              "  })(22714, \"/\", \"https://localhost:22714/\", window.element)"
            ]
          },
          "metadata": {}
        },
        {
          "output_type": "stream",
          "name": "stderr",
          "text": [
            "127.0.0.1 - - [2023-01-19 05:29:19] \"GET / HTTP/1.1\" 200 38298 0.392055\n",
            "127.0.0.1 - - [2023-01-19 05:29:22] \"GET /favicon.ico HTTP/1.1\" 404 356 0.008937\n",
            "127.0.0.1 - - [2023-01-19 05:29:33] \"POST / HTTP/1.1\" 200 38332 0.017055\n",
            "127.0.0.1 - - [2023-01-19 05:29:33] \"GET /favicon.ico HTTP/1.1\" 404 356 0.001003\n",
            "KeyboardInterrupt\n",
            "2023-01-19T05:42:43Z\n"
          ]
        },
        {
          "output_type": "error",
          "ename": "KeyboardInterrupt",
          "evalue": "ignored",
          "traceback": [
            "\u001b[0;31m---------------------------------------------------------------------------\u001b[0m",
            "\u001b[0;31mKeyboardInterrupt\u001b[0m                         Traceback (most recent call last)",
            "\u001b[0;32m<ipython-input-32-82498016efbb>\u001b[0m in \u001b[0;36m<module>\u001b[0;34m\u001b[0m\n\u001b[1;32m      7\u001b[0m \u001b[0mhost\u001b[0m\u001b[0;34m=\u001b[0m\u001b[0;34m'localhost'\u001b[0m\u001b[0;34m\u001b[0m\u001b[0;34m\u001b[0m\u001b[0m\n\u001b[1;32m      8\u001b[0m \u001b[0mapp_server\u001b[0m \u001b[0;34m=\u001b[0m \u001b[0mWSGIServer\u001b[0m\u001b[0;34m(\u001b[0m\u001b[0;34m(\u001b[0m\u001b[0mhost\u001b[0m\u001b[0;34m,\u001b[0m \u001b[0mport\u001b[0m\u001b[0;34m)\u001b[0m\u001b[0;34m,\u001b[0m \u001b[0mapp\u001b[0m\u001b[0;34m)\u001b[0m\u001b[0;34m\u001b[0m\u001b[0;34m\u001b[0m\u001b[0m\n\u001b[0;32m----> 9\u001b[0;31m \u001b[0mapp_server\u001b[0m\u001b[0;34m.\u001b[0m\u001b[0mserve_forever\u001b[0m\u001b[0;34m(\u001b[0m\u001b[0;34m)\u001b[0m\u001b[0;34m\u001b[0m\u001b[0;34m\u001b[0m\u001b[0m\n\u001b[0m",
            "\u001b[0;32m/usr/local/lib/python3.8/dist-packages/gevent/baseserver.py\u001b[0m in \u001b[0;36mserve_forever\u001b[0;34m(self, stop_timeout)\u001b[0m\n\u001b[1;32m    398\u001b[0m             \u001b[0mself\u001b[0m\u001b[0;34m.\u001b[0m\u001b[0mstart\u001b[0m\u001b[0;34m(\u001b[0m\u001b[0;34m)\u001b[0m\u001b[0;34m\u001b[0m\u001b[0;34m\u001b[0m\u001b[0m\n\u001b[1;32m    399\u001b[0m         \u001b[0;32mtry\u001b[0m\u001b[0;34m:\u001b[0m\u001b[0;34m\u001b[0m\u001b[0;34m\u001b[0m\u001b[0m\n\u001b[0;32m--> 400\u001b[0;31m             \u001b[0mself\u001b[0m\u001b[0;34m.\u001b[0m\u001b[0m_stop_event\u001b[0m\u001b[0;34m.\u001b[0m\u001b[0mwait\u001b[0m\u001b[0;34m(\u001b[0m\u001b[0;34m)\u001b[0m\u001b[0;34m\u001b[0m\u001b[0;34m\u001b[0m\u001b[0m\n\u001b[0m\u001b[1;32m    401\u001b[0m         \u001b[0;32mfinally\u001b[0m\u001b[0;34m:\u001b[0m\u001b[0;34m\u001b[0m\u001b[0;34m\u001b[0m\u001b[0m\n\u001b[1;32m    402\u001b[0m             \u001b[0mGreenlet\u001b[0m\u001b[0;34m.\u001b[0m\u001b[0mspawn\u001b[0m\u001b[0;34m(\u001b[0m\u001b[0mself\u001b[0m\u001b[0;34m.\u001b[0m\u001b[0mstop\u001b[0m\u001b[0;34m,\u001b[0m \u001b[0mtimeout\u001b[0m\u001b[0;34m=\u001b[0m\u001b[0mstop_timeout\u001b[0m\u001b[0;34m)\u001b[0m\u001b[0;34m.\u001b[0m\u001b[0mjoin\u001b[0m\u001b[0;34m(\u001b[0m\u001b[0;34m)\u001b[0m\u001b[0;34m\u001b[0m\u001b[0;34m\u001b[0m\u001b[0m\n",
            "\u001b[0;32m/usr/local/lib/python3.8/dist-packages/gevent/_gevent_cevent.cpython-38-x86_64-linux-gnu.so\u001b[0m in \u001b[0;36mgevent._gevent_cevent.Event.wait\u001b[0;34m()\u001b[0m\n",
            "\u001b[0;32m/usr/local/lib/python3.8/dist-packages/gevent/_gevent_c_abstract_linkable.cpython-38-x86_64-linux-gnu.so\u001b[0m in \u001b[0;36mgevent._gevent_c_abstract_linkable.AbstractLinkable._wait\u001b[0;34m()\u001b[0m\n",
            "\u001b[0;32m/usr/local/lib/python3.8/dist-packages/gevent/_gevent_c_abstract_linkable.cpython-38-x86_64-linux-gnu.so\u001b[0m in \u001b[0;36mgevent._gevent_c_abstract_linkable.AbstractLinkable._wait_core\u001b[0;34m()\u001b[0m\n",
            "\u001b[0;32m/usr/local/lib/python3.8/dist-packages/gevent/_gevent_c_abstract_linkable.cpython-38-x86_64-linux-gnu.so\u001b[0m in \u001b[0;36mgevent._gevent_c_abstract_linkable.AbstractLinkable._wait_core\u001b[0;34m()\u001b[0m\n",
            "\u001b[0;32m/usr/local/lib/python3.8/dist-packages/gevent/_gevent_c_abstract_linkable.cpython-38-x86_64-linux-gnu.so\u001b[0m in \u001b[0;36mgevent._gevent_c_abstract_linkable.AbstractLinkable._AbstractLinkable__wait_to_be_notified\u001b[0;34m()\u001b[0m\n",
            "\u001b[0;32m/usr/local/lib/python3.8/dist-packages/gevent/_gevent_c_abstract_linkable.cpython-38-x86_64-linux-gnu.so\u001b[0m in \u001b[0;36mgevent._gevent_c_abstract_linkable.AbstractLinkable._switch_to_hub\u001b[0;34m()\u001b[0m\n",
            "\u001b[0;32m/usr/local/lib/python3.8/dist-packages/gevent/_gevent_c_greenlet_primitives.cpython-38-x86_64-linux-gnu.so\u001b[0m in \u001b[0;36mgevent._gevent_c_greenlet_primitives.SwitchOutGreenletWithLoop.switch\u001b[0;34m()\u001b[0m\n",
            "\u001b[0;32m/usr/local/lib/python3.8/dist-packages/gevent/_gevent_c_greenlet_primitives.cpython-38-x86_64-linux-gnu.so\u001b[0m in \u001b[0;36mgevent._gevent_c_greenlet_primitives.SwitchOutGreenletWithLoop.switch\u001b[0;34m()\u001b[0m\n",
            "\u001b[0;32msrc/gevent/_gevent_c_greenlet_primitives.pxd\u001b[0m in \u001b[0;36mgevent._gevent_c_greenlet_primitives._greenlet_switch\u001b[0;34m()\u001b[0m\n",
            "\u001b[0;31mKeyboardInterrupt\u001b[0m: "
          ]
        }
      ],
      "source": [
        "import portpicker\n",
        "port = portpicker.pick_unused_port()\n",
        "from google.colab import output\n",
        "output.serve_kernel_port_as_window(port)\n",
        "\n",
        "from gevent.pywsgi import WSGIServer\n",
        "host='localhost'\n",
        "app_server = WSGIServer((host, port), app)\n",
        "app_server.serve_forever()"
      ]
    }
  ],
  "metadata": {
    "colab": {
      "provenance": []
    },
    "kernelspec": {
      "display_name": "Python 3",
      "name": "python3"
    },
    "language_info": {
      "name": "python"
    }
  },
  "nbformat": 4,
  "nbformat_minor": 0
}